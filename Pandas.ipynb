{
  "nbformat": 4,
  "nbformat_minor": 0,
  "metadata": {
    "colab": {
      "name": "Pandas.ipynb",
      "provenance": [],
      "collapsed_sections": [],
      "authorship_tag": "ABX9TyPmLkBwpWHKPPebYGEGoVEx",
      "include_colab_link": true
    },
    "kernelspec": {
      "name": "python3",
      "display_name": "Python 3"
    }
  },
  "cells": [
    {
      "cell_type": "markdown",
      "metadata": {
        "id": "view-in-github",
        "colab_type": "text"
      },
      "source": [
        "<a href=\"https://colab.research.google.com/github/gtchandra/JupyterNotebooks/blob/main/Pandas.ipynb\" target=\"_parent\"><img src=\"https://colab.research.google.com/assets/colab-badge.svg\" alt=\"Open In Colab\"/></a>"
      ]
    },
    {
      "cell_type": "markdown",
      "metadata": {
        "id": "EtSO5n3ZFtI9"
      },
      "source": [
        "# Introduction to PANDAS\n",
        "1) Reading a dataset from URL and look at it"
      ]
    },
    {
      "cell_type": "code",
      "metadata": {
        "id": "u_khsSBNj6oR",
        "outputId": "e85cfb1b-02ad-491a-d6a9-385899d71244",
        "colab": {
          "base_uri": "https://localhost:8080/",
          "height": 272
        }
      },
      "source": [
        "import pandas as pd\n",
        "df=pd.read_csv(\"https://archive.ics.uci.edu/ml/machine-learning-databases/iris/iris.data\",names=['Sepal Length','Sepal Width','Petal Length','Petal Width','Class'])\n",
        "print (list(df))\n",
        "\n",
        "print (df)"
      ],
      "execution_count": 2,
      "outputs": [
        {
          "output_type": "stream",
          "text": [
            "['Sepal Length', 'Sepal Width', 'Petal Length', 'Petal Width', 'Class']\n",
            "     Sepal Length  Sepal Width  Petal Length  Petal Width           Class\n",
            "0             5.1          3.5           1.4          0.2     Iris-setosa\n",
            "1             4.9          3.0           1.4          0.2     Iris-setosa\n",
            "2             4.7          3.2           1.3          0.2     Iris-setosa\n",
            "3             4.6          3.1           1.5          0.2     Iris-setosa\n",
            "4             5.0          3.6           1.4          0.2     Iris-setosa\n",
            "..            ...          ...           ...          ...             ...\n",
            "145           6.7          3.0           5.2          2.3  Iris-virginica\n",
            "146           6.3          2.5           5.0          1.9  Iris-virginica\n",
            "147           6.5          3.0           5.2          2.0  Iris-virginica\n",
            "148           6.2          3.4           5.4          2.3  Iris-virginica\n",
            "149           5.9          3.0           5.1          1.8  Iris-virginica\n",
            "\n",
            "[150 rows x 5 columns]\n"
          ],
          "name": "stdout"
        }
      ]
    },
    {
      "cell_type": "markdown",
      "metadata": {
        "id": "H6QNnFV_F9ob"
      },
      "source": [
        "See how you can play with **statistical functions** directly from Pandas"
      ]
    },
    {
      "cell_type": "code",
      "metadata": {
        "id": "HcLmhvmck2eW",
        "outputId": "fe450f75-b62e-486d-ffd4-e3d845156f06",
        "colab": {
          "base_uri": "https://localhost:8080/",
          "height": 85
        }
      },
      "source": [
        "print (\"Petal Length Mean: \",df['Petal Length'].mean())\n",
        "print (\"Petal Width Mean: \",df['Petal Width'].mean())\n",
        "print (\"Sepal Length Mean: \",df['Sepal Length'].mean())\n",
        "print (\"Setal Length Mean: \",df['Sepal Width'].mean())\n"
      ],
      "execution_count": 3,
      "outputs": [
        {
          "output_type": "stream",
          "text": [
            "Petal Length Mean:  3.7586666666666693\n",
            "Petal Width Mean:  1.1986666666666672\n",
            "Sepal Length Mean:  5.843333333333335\n",
            "Setal Length Mean:  3.0540000000000007\n"
          ],
          "name": "stdout"
        }
      ]
    },
    {
      "cell_type": "markdown",
      "metadata": {
        "id": "bGDEAiw64drK"
      },
      "source": [
        "## Trying to correlate data with a text column..."
      ]
    },
    {
      "cell_type": "code",
      "metadata": {
        "id": "nFZRXOHIwE8a"
      },
      "source": [
        "#df['Petal Length'].corr(df['Class'])\n",
        "#print (\"Sepal Length correlation: \",str(df['Petal Length'].corr(df['Class'])))\n",
        "\n",
        "#correct we need to convert it to a number!!!\"\"\""
      ],
      "execution_count": 4,
      "outputs": []
    },
    {
      "cell_type": "markdown",
      "metadata": {
        "id": "doZedSu44tCy"
      },
      "source": [
        "## Better convert the Class to a number first, using pd.Categorical()"
      ]
    },
    {
      "cell_type": "code",
      "metadata": {
        "id": "bauNzU9XxWwx",
        "outputId": "f8902886-e961-4c77-919a-466694592071",
        "colab": {
          "base_uri": "https://localhost:8080/",
          "height": 360
        }
      },
      "source": [
        "#from sklearn.preprocessing import LabelBinarizer\n",
        "#LabelBinarizer().fit_transform(df['Class'])\n",
        "cl=pd.Categorical(df['Class'])\n",
        "print (\"here's the array of class codes: \",cl.codes)\n",
        "df['Class Code']=cl.codes\n",
        "print (df)"
      ],
      "execution_count": 5,
      "outputs": [
        {
          "output_type": "stream",
          "text": [
            "here's the array of class codes:  [0 0 0 0 0 0 0 0 0 0 0 0 0 0 0 0 0 0 0 0 0 0 0 0 0 0 0 0 0 0 0 0 0 0 0 0 0\n",
            " 0 0 0 0 0 0 0 0 0 0 0 0 0 1 1 1 1 1 1 1 1 1 1 1 1 1 1 1 1 1 1 1 1 1 1 1 1\n",
            " 1 1 1 1 1 1 1 1 1 1 1 1 1 1 1 1 1 1 1 1 1 1 1 1 1 1 2 2 2 2 2 2 2 2 2 2 2\n",
            " 2 2 2 2 2 2 2 2 2 2 2 2 2 2 2 2 2 2 2 2 2 2 2 2 2 2 2 2 2 2 2 2 2 2 2 2 2\n",
            " 2 2]\n",
            "     Sepal Length  Sepal Width  ...           Class  Class Code\n",
            "0             5.1          3.5  ...     Iris-setosa           0\n",
            "1             4.9          3.0  ...     Iris-setosa           0\n",
            "2             4.7          3.2  ...     Iris-setosa           0\n",
            "3             4.6          3.1  ...     Iris-setosa           0\n",
            "4             5.0          3.6  ...     Iris-setosa           0\n",
            "..            ...          ...  ...             ...         ...\n",
            "145           6.7          3.0  ...  Iris-virginica           2\n",
            "146           6.3          2.5  ...  Iris-virginica           2\n",
            "147           6.5          3.0  ...  Iris-virginica           2\n",
            "148           6.2          3.4  ...  Iris-virginica           2\n",
            "149           5.9          3.0  ...  Iris-virginica           2\n",
            "\n",
            "[150 rows x 6 columns]\n"
          ],
          "name": "stdout"
        }
      ]
    },
    {
      "cell_type": "markdown",
      "metadata": {
        "id": "TUti9ZzkGyJz"
      },
      "source": [
        "## Now let's try to **CORRELATE** "
      ]
    },
    {
      "cell_type": "code",
      "metadata": {
        "id": "R5nTf15R2bU8",
        "outputId": "e3a870ca-09ab-4953-af53-77e7a08e5faa",
        "colab": {
          "base_uri": "https://localhost:8080/",
          "height": 85
        }
      },
      "source": [
        "print(df['Petal Length'].corr(df['Class Code']))\n",
        "print(df['Petal Width'].corr(df['Class Code']))\n",
        "print(df['Sepal Length'].corr(df['Class Code']))\n",
        "print(df['Sepal Width'].corr(df['Class Code']))\n"
      ],
      "execution_count": 6,
      "outputs": [
        {
          "output_type": "stream",
          "text": [
            "0.9490425448523333\n",
            "0.9564638238016165\n",
            "0.782561231810082\n",
            "-0.4194462002600274\n"
          ],
          "name": "stdout"
        }
      ]
    },
    {
      "cell_type": "code",
      "metadata": {
        "id": "pPfpbSXC_nEr"
      },
      "source": [
        ""
      ],
      "execution_count": 6,
      "outputs": []
    }
  ]
}