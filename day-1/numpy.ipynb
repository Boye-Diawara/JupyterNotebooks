{
  "nbformat": 4,
  "nbformat_minor": 0,
  "metadata": {
    "kernelspec": {
      "display_name": "Python 3",
      "language": "python",
      "name": "python3"
    },
    "language_info": {
      "codemirror_mode": {
        "name": "ipython",
        "version": 3
      },
      "file_extension": ".py",
      "mimetype": "text/x-python",
      "name": "python",
      "nbconvert_exporter": "python",
      "pygments_lexer": "ipython3",
      "version": "3.8.3"
    },
    "colab": {
      "name": "numpy-examples.ipynb",
      "provenance": [],
      "collapsed_sections": []
    }
  },
  "cells": [
    {
      "cell_type": "code",
      "metadata": {
        "id": "E9vJoBLNaztB",
        "outputId": "12f69a0a-9e31-4d6d-af17-01050d8a11da",
        "colab": {
          "base_uri": "https://localhost:8080/",
          "height": 35
        }
      },
      "source": [
        "b=[1,2,3,4]\n",
        "len(b)\n",
        "print (type(b))"
      ],
      "execution_count": null,
      "outputs": [
        {
          "output_type": "stream",
          "text": [
            "<class 'list'>\n"
          ],
          "name": "stdout"
        }
      ]
    },
    {
      "cell_type": "code",
      "metadata": {
        "id": "s2hnbKIuaztJ",
        "outputId": "affa5cd5-aa7f-4e07-9876-1cc32db7c4bf",
        "colab": {
          "base_uri": "https://localhost:8080/",
          "height": 69
        }
      },
      "source": [
        "import numpy as np\n",
        "print (np.__version__)\n",
        "\n",
        "a=np.array([1,2,4,4])\n",
        "type(a)\n",
        "print(a.size)\n",
        "print(a.shape)\n"
      ],
      "execution_count": null,
      "outputs": [
        {
          "output_type": "stream",
          "text": [
            "1.18.5\n",
            "4\n",
            "(4,)\n"
          ],
          "name": "stdout"
        }
      ]
    },
    {
      "cell_type": "markdown",
      "metadata": {
        "id": "ki5FFDKIaztN"
      },
      "source": [
        "Call np. count_nonzero(array == value, axis=n) with n as 1 to count the occurrences of value in each row. Define n as 0 to count the occurrences of value in each column."
      ]
    },
    {
      "cell_type": "code",
      "metadata": {
        "id": "rKPMOTtqaztP",
        "outputId": "1bb7ebcb-7b6c-4f00-8220-430461556b82",
        "colab": {
          "base_uri": "https://localhost:8080/",
          "height": 69
        }
      },
      "source": [
        "print (len(a))\n",
        "print(\"how many 4s?\",np.count_nonzero(a==4,axis=0))\n",
        "a[3]=5\n",
        "print (a)"
      ],
      "execution_count": null,
      "outputs": [
        {
          "output_type": "stream",
          "text": [
            "4\n",
            "how many 4s? 2\n",
            "[1 2 4 5]\n"
          ],
          "name": "stdout"
        }
      ]
    },
    {
      "cell_type": "code",
      "metadata": {
        "id": "nnKtQIrPaztT"
      },
      "source": [
        ""
      ],
      "execution_count": null,
      "outputs": []
    },
    {
      "cell_type": "markdown",
      "metadata": {
        "id": "EPTkZT4WaztW"
      },
      "source": [
        "Shape of the array can be modified, array can be easily transposed"
      ]
    },
    {
      "cell_type": "code",
      "metadata": {
        "id": "n-Byy8kdaztX",
        "outputId": "8b42d596-7661-478b-ebea-1864e126300e",
        "colab": {
          "base_uri": "https://localhost:8080/",
          "height": 121
        }
      },
      "source": [
        "a.shape=(2,2)\n",
        "print(a)\n",
        "print(a.T)\n",
        "print (round(np.linalg.det(a)))\n",
        "print (np.linalg.det(a.T))\n"
      ],
      "execution_count": null,
      "outputs": [
        {
          "output_type": "stream",
          "text": [
            "[[1 2]\n",
            " [4 5]]\n",
            "[[1 4]\n",
            " [2 5]]\n",
            "-3.0\n",
            "-2.9999999999999996\n"
          ],
          "name": "stdout"
        }
      ]
    },
    {
      "cell_type": "code",
      "metadata": {
        "id": "RS_HE7Araztb",
        "outputId": "509f5c9c-4e47-48b4-9858-bdd711d209d2",
        "colab": {
          "base_uri": "https://localhost:8080/",
          "height": 35
        }
      },
      "source": [
        "a.shape=(4)\n",
        "print (a)"
      ],
      "execution_count": null,
      "outputs": [
        {
          "output_type": "stream",
          "text": [
            "[1 2 4 5]\n"
          ],
          "name": "stdout"
        }
      ]
    },
    {
      "cell_type": "code",
      "metadata": {
        "id": "WiTz1mrxazte"
      },
      "source": [
        "a.shape=(1,4)\n"
      ],
      "execution_count": null,
      "outputs": []
    },
    {
      "cell_type": "code",
      "metadata": {
        "id": "UWW2ALIFaztj",
        "outputId": "a0e79d5c-22fd-4d18-d81c-3f06509eb6bc",
        "colab": {
          "base_uri": "https://localhost:8080/",
          "height": 35
        }
      },
      "source": [
        "a.T.shape\n",
        "a"
      ],
      "execution_count": null,
      "outputs": [
        {
          "output_type": "execute_result",
          "data": {
            "text/plain": [
              "array([[1, 2, 4, 5]])"
            ]
          },
          "metadata": {
            "tags": []
          },
          "execution_count": 15
        }
      ]
    },
    {
      "cell_type": "markdown",
      "metadata": {
        "id": "X_7iCrWsaztm"
      },
      "source": [
        "## more functions\n",
        "Here are some functions that are included in numpy arrays\n",
        "like mean, median, variance and std deviation.\n"
      ]
    },
    {
      "cell_type": "code",
      "metadata": {
        "id": "abNEabKHaztn",
        "outputId": "2da91b93-853c-49dc-a5f9-a9aab18afc9c",
        "colab": {
          "base_uri": "https://localhost:8080/",
          "height": 52
        }
      },
      "source": [
        "a=np.array([1,3,4,6,3,6,7,8,9,0,6,5,74,3,24,26,4,68,42,1,2,5,9])\n",
        "print (\"Mean:{}, Std Dev:{}, Median:{}, Variance:{}\".format(a.mean(),a.std(),np.median(a),a.var()))\n",
        "print (\"A:\",np.sort(a))\n"
      ],
      "execution_count": null,
      "outputs": [
        {
          "output_type": "stream",
          "text": [
            "Mean:13.73913043478261, Std Dev:20.078579092512776, Median:6.0, Variance:403.1493383742911\n",
            "A: [ 0  1  1  2  3  3  3  4  4  5  5  6  6  6  7  8  9  9 24 26 42 68 74]\n"
          ],
          "name": "stdout"
        }
      ]
    },
    {
      "cell_type": "markdown",
      "metadata": {
        "id": "N46lXp3tiJB-"
      },
      "source": [
        "# Array selection through boolean arrays"
      ]
    },
    {
      "cell_type": "code",
      "metadata": {
        "id": "L2G4xjS-enNY",
        "outputId": "a49df29d-bcad-458c-a000-24a640965437",
        "colab": {
          "base_uri": "https://localhost:8080/",
          "height": 69
        }
      },
      "source": [
        "a=np.array([1,3,4,0,6,3,1])\n",
        "boolarr=a>1\n",
        "print(boolarr)\n",
        "print (a[boolarr])\n",
        "#or in a quicker way\n",
        "print (a[(a<6)&(a>1)])"
      ],
      "execution_count": null,
      "outputs": [
        {
          "output_type": "stream",
          "text": [
            "[False  True  True False  True  True False]\n",
            "[3 4 6 3]\n",
            "[3 4 3]\n"
          ],
          "name": "stdout"
        }
      ]
    },
    {
      "cell_type": "code",
      "metadata": {
        "id": "uQml8vorhcob",
        "outputId": "e9caa895-7299-4465-ae9a-e14b3db0c111",
        "colab": {
          "base_uri": "https://localhost:8080/",
          "height": 86
        }
      },
      "source": [
        "#now with WHERE we can find the index of the array that satisfy a certain condition\n",
        "index=np.where(a>1)\n",
        "list(index[0])\n",
        "\n",
        "print (a[list(index[0])]) #similar to the previous result\n",
        "#how to multiply by 3 only the elements >3 ?\n",
        "index=np.where(a>3)\n",
        "for _ in index:\n",
        "  a[_]*=3\n",
        "print (a)\n",
        "print (type(index))\n",
        "print (index)\n"
      ],
      "execution_count": null,
      "outputs": [
        {
          "output_type": "stream",
          "text": [
            "[  3 108 162   3]\n",
            "[  1   3 324   0 486   3   1]\n",
            "<class 'tuple'>\n",
            "[2 4]\n"
          ],
          "name": "stdout"
        }
      ]
    },
    {
      "cell_type": "code",
      "metadata": {
        "id": "3HMDXdwhiOTM",
        "outputId": "baee114d-3e2f-42d8-cc4d-545b282ca17d",
        "colab": {
          "base_uri": "https://localhost:8080/",
          "height": 51
        }
      },
      "source": [
        "#or in a simpler way:\n",
        "a=np.array([1,3,4,0,6,3,1])\n",
        "a[a>3]*=3\n",
        "print (a)\n",
        "print (a.size)"
      ],
      "execution_count": null,
      "outputs": [
        {
          "output_type": "stream",
          "text": [
            "[ 1  3 12  0 18  3  1]\n",
            "7\n"
          ],
          "name": "stdout"
        }
      ]
    },
    {
      "cell_type": "markdown",
      "metadata": {
        "id": "TU_Spz0Pvdzh"
      },
      "source": [
        "### Generate a random array"
      ]
    },
    {
      "cell_type": "code",
      "metadata": {
        "id": "qzj4uoYUmUjd"
      },
      "source": [
        "ran=np.random.randint(0,10,100,int)"
      ],
      "execution_count": null,
      "outputs": []
    },
    {
      "cell_type": "code",
      "metadata": {
        "id": "nzgLpMopuwnJ",
        "outputId": "65870983-187b-45e4-a37e-55be3ed9dc15",
        "colab": {
          "base_uri": "https://localhost:8080/",
          "height": 68
        }
      },
      "source": [
        "print(ran)"
      ],
      "execution_count": null,
      "outputs": [
        {
          "output_type": "stream",
          "text": [
            "[5 5 5 9 3 7 0 0 0 5 9 3 7 6 5 7 7 0 3 3 0 1 5 1 9 6 8 7 6 6 3 8 7 7 9 2 2\n",
            " 0 1 7 5 1 5 6 6 8 1 0 3 7 8 2 9 0 7 0 1 3 3 6 4 5 5 4 2 8 4 9 9 3 2 3 7 0\n",
            " 7 8 5 5 2 3 8 7 9 9 3 3 4 7 7 7 6 3 5 0 0 3 8 0 8 5]\n"
          ],
          "name": "stdout"
        }
      ]
    },
    {
      "cell_type": "code",
      "metadata": {
        "id": "_Zt0mJVKvKpn",
        "outputId": "13c36fa6-a1c0-4172-cdc4-e3d4dcf3f31f",
        "colab": {
          "base_uri": "https://localhost:8080/",
          "height": 52
        }
      },
      "source": [
        "vec=np.arange(15,56,1)\n",
        "print (vec)"
      ],
      "execution_count": null,
      "outputs": [
        {
          "output_type": "stream",
          "text": [
            "[15 16 17 18 19 20 21 22 23 24 25 26 27 28 29 30 31 32 33 34 35 36 37 38\n",
            " 39 40 41 42 43 44 45 46 47 48 49 50 51 52 53 54 55]\n"
          ],
          "name": "stdout"
        }
      ]
    },
    {
      "cell_type": "code",
      "metadata": {
        "id": "Z_bM3vtmvSbd",
        "outputId": "7514ef45-b21d-4504-adce-06816dc38853",
        "colab": {
          "base_uri": "https://localhost:8080/",
          "height": 52
        }
      },
      "source": [
        "print (vec[1:-8])"
      ],
      "execution_count": null,
      "outputs": [
        {
          "output_type": "stream",
          "text": [
            "[16 17 18 19 20 21 22 23 24 25 26 27 28 29 30 31 32 33 34 35 36 37 38 39\n",
            " 40 41 42 43 44 45 46 47]\n"
          ],
          "name": "stdout"
        }
      ]
    },
    {
      "cell_type": "code",
      "metadata": {
        "id": "PiWL-mXMx3FN",
        "outputId": "4e13be41-5423-4bfb-a45d-f681e5ecde47",
        "colab": {
          "base_uri": "https://localhost:8080/",
          "height": 51
        }
      },
      "source": [
        "print(vec.T)"
      ],
      "execution_count": null,
      "outputs": [
        {
          "output_type": "stream",
          "text": [
            "[15 16 17 18 19 20 21 22 23 24 25 26 27 28 29 30 31 32 33 34 35 36 37 38\n",
            " 39 40 41 42 43 44 45 46 47 48 49 50 51 52 53 54 55]\n"
          ],
          "name": "stdout"
        }
      ]
    },
    {
      "cell_type": "code",
      "metadata": {
        "id": "9Ggq-fQ4yUE3",
        "outputId": "8af2a889-3299-47db-98f6-f0d296e35789",
        "colab": {
          "base_uri": "https://localhost:8080/",
          "height": 51
        }
      },
      "source": [
        "print (vec)"
      ],
      "execution_count": null,
      "outputs": [
        {
          "output_type": "stream",
          "text": [
            "[15 16 17 18 19 20 21 22 23 24 25 26 27 28 29 30 31 32 33 34 35 36 37 38\n",
            " 39 40 41 42 43 44 45 46 47 48 49 50 51 52 53 54 55]\n"
          ],
          "name": "stdout"
        }
      ]
    },
    {
      "cell_type": "markdown",
      "metadata": {
        "id": "CrsPugEr7HWU"
      },
      "source": [
        "# Playing with matrices \n",
        "[https://www.mathsisfun.com/algebra/matrix-introduction.html]"
      ]
    },
    {
      "cell_type": "code",
      "metadata": {
        "id": "m3FSdFSTyXWe",
        "outputId": "08d27628-95fe-41dc-918f-a6b1c069b277",
        "colab": {
          "base_uri": "https://localhost:8080/",
          "height": 86
        }
      },
      "source": [
        "np.eye(4)"
      ],
      "execution_count": null,
      "outputs": [
        {
          "output_type": "execute_result",
          "data": {
            "text/plain": [
              "array([[1., 0., 0., 0.],\n",
              "       [0., 1., 0., 0.],\n",
              "       [0., 0., 1., 0.],\n",
              "       [0., 0., 0., 1.]])"
            ]
          },
          "metadata": {
            "tags": []
          },
          "execution_count": 30
        }
      ]
    },
    {
      "cell_type": "code",
      "metadata": {
        "id": "9Adc5vi2ygMC",
        "outputId": "3e74eaef-fb9f-4c86-f5bd-a4c89ac688d5",
        "colab": {
          "base_uri": "https://localhost:8080/",
          "height": 86
        }
      },
      "source": [
        "ran=np.random.randint(0,5,(3,3),int)\n",
        "print(ran)\n",
        "print (round(np.linalg.det(ran)))"
      ],
      "execution_count": null,
      "outputs": [
        {
          "output_type": "stream",
          "text": [
            "[[0 3 1]\n",
            " [2 4 4]\n",
            " [2 3 0]]\n",
            "22.0\n"
          ],
          "name": "stdout"
        }
      ]
    },
    {
      "cell_type": "code",
      "metadata": {
        "id": "W88i3EMm1VBv"
      },
      "source": [
        ""
      ],
      "execution_count": null,
      "outputs": []
    },
    {
      "cell_type": "code",
      "metadata": {
        "id": "7FWyFWG18Ogt",
        "outputId": "83710015-0774-42f3-a80c-c335356bb635",
        "colab": {
          "base_uri": "https://localhost:8080/",
          "height": 35
        }
      },
      "source": [
        "import numpy as np\n",
        "arr1=np.array([1,3,4,5,6])\n",
        "arr2=np.array([2,1,0,0,2])\n",
        "arr3=np.multiply(arr1,arr2)\n",
        "print(arr3)\n"
      ],
      "execution_count": null,
      "outputs": [
        {
          "output_type": "stream",
          "text": [
            "[ 2  3  0  0 12]\n"
          ],
          "name": "stdout"
        }
      ]
    },
    {
      "cell_type": "code",
      "metadata": {
        "id": "uzYcCI49a5iL",
        "outputId": "8983db26-4d5d-40f4-ee66-27a2ed4eb393",
        "colab": {
          "base_uri": "https://localhost:8080/",
          "height": 155
        }
      },
      "source": [
        "mat=np.array([[1,2],[3,5]])\n",
        "print (\"matrix:\\n\",mat)\n",
        "print (\"matrix transposed\\n\",mat.T)\n",
        "print (np.linalg.inv(mat))"
      ],
      "execution_count": null,
      "outputs": [
        {
          "output_type": "stream",
          "text": [
            "matrix:\n",
            " [[1 2]\n",
            " [3 5]]\n",
            "matrix transposed\n",
            " [[1 3]\n",
            " [2 5]]\n",
            "[[-5.  2.]\n",
            " [ 3. -1.]]\n"
          ],
          "name": "stdout"
        }
      ]
    },
    {
      "cell_type": "code",
      "metadata": {
        "id": "0Ck57CeUaztq",
        "outputId": "93228100-a981-47e4-b249-ac040ba4ab54",
        "colab": {
          "base_uri": "https://localhost:8080/",
          "height": 52
        }
      },
      "source": [
        "mat3=np.dot(mat,np.linalg.inv(mat))\n",
        "#following lines are weird but useful if you don't want to see exponential negative numbers instead of 0\n",
        "eps=0.0000001\n",
        "mat3[np.abs(mat3) < eps] = 0\n",
        "\n",
        "print (mat3)\n"
      ],
      "execution_count": null,
      "outputs": [
        {
          "output_type": "stream",
          "text": [
            "[[1. 0.]\n",
            " [0. 1.]]\n"
          ],
          "name": "stdout"
        }
      ]
    },
    {
      "cell_type": "code",
      "metadata": {
        "id": "x9N7SdXXxfz-",
        "outputId": "386a4b24-f54c-440c-daf8-c53daae04b84",
        "colab": {
          "base_uri": "https://localhost:8080/",
          "height": 104
        }
      },
      "source": [
        "import numpy as np\n",
        "print (np.__version__)\n",
        "a=np.array([[1,2],[3,4]])\n",
        "print (a)\n",
        "print (a.T)"
      ],
      "execution_count": null,
      "outputs": [
        {
          "output_type": "stream",
          "text": [
            "1.18.5\n",
            "[[1 2]\n",
            " [3 4]]\n",
            "[[1 3]\n",
            " [2 4]]\n"
          ],
          "name": "stdout"
        }
      ]
    },
    {
      "cell_type": "code",
      "metadata": {
        "id": "Z82urbXNxtH_",
        "outputId": "bd4ef881-e356-44d7-866c-e895876ee2b6",
        "colab": {
          "base_uri": "https://localhost:8080/",
          "height": 52
        }
      },
      "source": [
        "b=a.dot(a.T)\n",
        "print (b)"
      ],
      "execution_count": null,
      "outputs": [
        {
          "output_type": "stream",
          "text": [
            "[[ 5 11]\n",
            " [11 25]]\n"
          ],
          "name": "stdout"
        }
      ]
    },
    {
      "cell_type": "code",
      "metadata": {
        "id": "rQFdLOdWx6gX",
        "outputId": "05daf536-baf1-4f92-98ee-42b0b834a1de",
        "colab": {
          "base_uri": "https://localhost:8080/",
          "height": 86
        }
      },
      "source": [
        "print (np.linalg.inv(b))\n",
        "print (np.dot(np.linalg.pinv(a),a.T))"
      ],
      "execution_count": null,
      "outputs": [
        {
          "output_type": "stream",
          "text": [
            "[[ 6.25 -2.75]\n",
            " [-2.75  1.25]]\n",
            "[[-4.4408921e-16 -2.0000000e+00]\n",
            " [ 5.0000000e-01  2.5000000e+00]]\n"
          ],
          "name": "stdout"
        }
      ]
    },
    {
      "cell_type": "code",
      "metadata": {
        "id": "P06IDNBA3Kmc"
      },
      "source": [
        ""
      ],
      "execution_count": null,
      "outputs": []
    }
  ]
}