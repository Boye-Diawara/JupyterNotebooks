{
 "cells": [
  {
   "cell_type": "code",
   "execution_count": null,
   "metadata": {
    "id": "W9QXbT2z5j5w"
   },
   "outputs": [],
   "source": []
  },
  {
   "cell_type": "markdown",
   "metadata": {
    "id": "9VHewryn4dhQ"
   },
   "source": [
    "# Training Homework: try to solve the following puzzles with Python\n",
    "\n",
    "### 1) from the string \"ArtificialIntelligence\" extract only the even characters"
   ]
  },
  {
   "cell_type": "markdown",
   "metadata": {
    "id": "LD3PAMm94dhZ"
   },
   "source": [
    "### 2) count the word \"the\" inside this string: \"the quick brown fox jump over the lazy dog\" "
   ]
  },
  {
   "cell_type": "markdown",
   "metadata": {
    "id": "jqr-woLl4dhd"
   },
   "source": [
    "### 3) Build a function that will idefiy the max between 2 numbers\n",
    "example: max(5,7) = 7"
   ]
  },
  {
   "cell_type": "markdown",
   "metadata": {
    "id": "eCOjCIbV4dhh"
   },
   "source": [
    "### 4) Build a function that takes one parameter and returns True on palindrome objects\n",
    "\n",
    "example:\n",
    "pal(\"RADAR\")\n",
    "**True**"
   ]
  },
  {
   "cell_type": "markdown",
   "metadata": {
    "id": "f1ngH1xt4dhl"
   },
   "source": [
    "### 5) print the downward half-pyramid pattern with stars\n",
    "\n",
    "\\* \\* \\* \\* \\*<br/>\n",
    "\\* \\* \\* \\* <br/>\n",
    "\\* \\* \\*<br/>\n",
    "\\* \\*<br/>\n",
    "\\*<br/>\n"
   ]
  },
  {
   "cell_type": "code",
   "execution_count": null,
   "metadata": {
    "id": "BTukrOhu4dhp"
   },
   "outputs": [],
   "source": []
  }
 ],
 "metadata": {
  "colab": {
   "collapsed_sections": [],
   "name": "python-exercises.ipynb",
   "provenance": []
  },
  "kernelspec": {
   "display_name": "Python 3",
   "language": "python",
   "name": "python3"
  },
  "language_info": {
   "codemirror_mode": {
    "name": "ipython",
    "version": 3
   },
   "file_extension": ".py",
   "mimetype": "text/x-python",
   "name": "python",
   "nbconvert_exporter": "python",
   "pygments_lexer": "ipython3",
   "version": "3.8.3"
  }
 },
 "nbformat": 4,
 "nbformat_minor": 1
}
