{
  "nbformat": 4,
  "nbformat_minor": 0,
  "metadata": {
    "colab": {
      "name": "exercise2-day2.ipynb",
      "provenance": []
    },
    "kernelspec": {
      "name": "python3",
      "display_name": "Python 3"
    }
  },
  "cells": [
    {
      "cell_type": "code",
      "metadata": {
        "id": "7ZKhTX8U9ELz"
      },
      "source": [
        ""
      ],
      "execution_count": null,
      "outputs": []
    },
    {
      "cell_type": "markdown",
      "metadata": {
        "id": "NTqFM-xh9IOc"
      },
      "source": [
        "# Train multiple logistic regression binary classifiers to map the 3 types of Iris flowers from the Iris Dataset\n",
        "## map the probability on 3 different graphs (plot them in different color please)\n",
        "\n",
        "Use the [Logistic Regression Notebook](https://github.com/gtchandra/JupyterNotebooks/blob/main/day-2/log_reg_multi.ipynb) as a template.\n"
      ]
    },
    {
      "cell_type": "code",
      "metadata": {
        "id": "HldrM5HA92VB"
      },
      "source": [
        ""
      ],
      "execution_count": null,
      "outputs": []
    }
  ]
}