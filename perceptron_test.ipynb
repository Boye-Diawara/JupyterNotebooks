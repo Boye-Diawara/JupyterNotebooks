{
  "nbformat": 4,
  "nbformat_minor": 0,
  "metadata": {
    "kernelspec": {
      "display_name": "Python 3",
      "language": "python",
      "name": "python3"
    },
    "language_info": {
      "codemirror_mode": {
        "name": "ipython",
        "version": 3
      },
      "file_extension": ".py",
      "mimetype": "text/x-python",
      "name": "python",
      "nbconvert_exporter": "python",
      "pygments_lexer": "ipython3",
      "version": "3.8.3"
    },
    "colab": {
      "name": "perceptron-test.ipynb",
      "provenance": [],
      "collapsed_sections": [],
      "include_colab_link": true
    }
  },
  "cells": [
    {
      "cell_type": "markdown",
      "metadata": {
        "id": "view-in-github",
        "colab_type": "text"
      },
      "source": [
        "<a href=\"https://colab.research.google.com/github/gtchandra/JupyterNotebooks/blob/main/perceptron_test.ipynb\" target=\"_parent\"><img src=\"https://colab.research.google.com/assets/colab-badge.svg\" alt=\"Open In Colab\"/></a>"
      ]
    },
    {
      "cell_type": "markdown",
      "metadata": {
        "id": "fiyovqN16SIL"
      },
      "source": [
        "# Perceptron Test"
      ]
    },
    {
      "cell_type": "code",
      "metadata": {
        "id": "P-zDsHN-6SIM"
      },
      "source": [
        "import numpy as np\n",
        "from sklearn.datasets import load_iris\n",
        "from sklearn.linear_model import Perceptron\n",
        "iris=load_iris()\n",
        "X=iris.data[:,(2,3)] #petal width and length\n",
        "y=(iris.target==0).astype(np.int) #setosa"
      ],
      "execution_count": 2,
      "outputs": []
    },
    {
      "cell_type": "code",
      "metadata": {
        "id": "eETGKTAg6SIR",
        "outputId": "15242423-9428-4fec-91b7-0553db0687fb",
        "colab": {
          "base_uri": "https://localhost:8080/",
          "height": 35
        }
      },
      "source": [
        "per_clf=Perceptron()\n",
        "per_clf.fit(X,y)\n",
        "y_pred=per_clf.predict([[4,0.5]])\n",
        "print (y_pred)"
      ],
      "execution_count": 3,
      "outputs": [
        {
          "output_type": "stream",
          "text": [
            "[0]\n"
          ],
          "name": "stdout"
        }
      ]
    },
    {
      "cell_type": "code",
      "metadata": {
        "id": "reuPpPRS6SIb",
        "outputId": "b4d89cac-b992-4460-de08-5eeef089b43b",
        "colab": {
          "base_uri": "https://localhost:8080/",
          "height": 35
        }
      },
      "source": [
        "y_pred=per_clf.predict([[1.7,0.5]])\n",
        "print (y_pred)"
      ],
      "execution_count": 4,
      "outputs": [
        {
          "output_type": "stream",
          "text": [
            "[1]\n"
          ],
          "name": "stdout"
        }
      ]
    },
    {
      "cell_type": "code",
      "metadata": {
        "id": "B5TPpQlx6YRq",
        "outputId": "e623715d-8ea5-49c7-c808-b52874c6a76f",
        "colab": {
          "base_uri": "https://localhost:8080/",
          "height": 35
        }
      },
      "source": [
        "per_clf.score(X,y)"
      ],
      "execution_count": 5,
      "outputs": [
        {
          "output_type": "execute_result",
          "data": {
            "text/plain": [
              "1.0"
            ]
          },
          "metadata": {
            "tags": []
          },
          "execution_count": 5
        }
      ]
    },
    {
      "cell_type": "markdown",
      "metadata": {
        "id": "sLtYGnSl6SIh"
      },
      "source": [
        "# Reference Data Set\n",
        "![image](https://miro.medium.com/max/1064/1*3eV7yt7TDUgTMixfGB9fGw.png)"
      ]
    },
    {
      "cell_type": "code",
      "metadata": {
        "id": "7esWTG326SIi"
      },
      "source": [
        ""
      ],
      "execution_count": null,
      "outputs": []
    }
  ]
}