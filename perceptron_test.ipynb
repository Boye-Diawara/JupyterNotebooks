{
  "nbformat": 4,
  "nbformat_minor": 0,
  "metadata": {
    "kernelspec": {
      "display_name": "Python 3",
      "language": "python",
      "name": "python3"
    },
    "language_info": {
      "codemirror_mode": {
        "name": "ipython",
        "version": 3
      },
      "file_extension": ".py",
      "mimetype": "text/x-python",
      "name": "python",
      "nbconvert_exporter": "python",
      "pygments_lexer": "ipython3",
      "version": "3.8.3"
    },
    "colab": {
      "name": "perceptron-test.ipynb",
      "provenance": [],
      "include_colab_link": true
    }
  },
  "cells": [
    {
      "cell_type": "markdown",
      "metadata": {
        "id": "view-in-github",
        "colab_type": "text"
      },
      "source": [
        "<a href=\"https://colab.research.google.com/github/gtchandra/JupyterNotebooks/blob/main/perceptron_test.ipynb\" target=\"_parent\"><img src=\"https://colab.research.google.com/assets/colab-badge.svg\" alt=\"Open In Colab\"/></a>"
      ]
    },
    {
      "cell_type": "markdown",
      "metadata": {
        "id": "VGwNIx1c5Oij"
      },
      "source": [
        "# Perceptron Test"
      ]
    },
    {
      "cell_type": "code",
      "metadata": {
        "id": "Dccgnb4e5Oil"
      },
      "source": [
        "import numpy as np\n",
        "from sklearn.datasets import load_iris\n",
        "from sklearn.linear_model import Perceptron\n",
        "iris=load_iris()\n",
        "X=iris.data[:,(2,3)] #petal width and length\n",
        "y=(iris.target==0).astype(np.int) #setosa"
      ],
      "execution_count": null,
      "outputs": []
    },
    {
      "cell_type": "code",
      "metadata": {
        "id": "OkZ7-PJp5Oiq",
        "outputId": "d3554069-d3aa-4cf2-d0bf-fe3efd9519c1"
      },
      "source": [
        "per_clf=Perceptron()\n",
        "per_clf.fit(X,y)\n",
        "y_pred=per_clf.predict([[4,0.5]])\n",
        "print (y_pred)"
      ],
      "execution_count": null,
      "outputs": [
        {
          "output_type": "stream",
          "text": [
            "[0]\n"
          ],
          "name": "stdout"
        }
      ]
    },
    {
      "cell_type": "code",
      "metadata": {
        "id": "4beYIKb_5Oiv",
        "outputId": "22708aab-0e08-46b3-8a99-f33c6de5172f"
      },
      "source": [
        "y_pred=per_clf.predict([[1.7,0.5]])\n",
        "print (y_pred)"
      ],
      "execution_count": null,
      "outputs": [
        {
          "output_type": "stream",
          "text": [
            "[1]\n"
          ],
          "name": "stdout"
        }
      ]
    },
    {
      "cell_type": "markdown",
      "metadata": {
        "id": "KmycfKBQ5Oiz"
      },
      "source": [
        "# Reference Data Set\n",
        "![image](https://miro.medium.com/max/1064/1*3eV7yt7TDUgTMixfGB9fGw.png)"
      ]
    },
    {
      "cell_type": "code",
      "metadata": {
        "id": "OZY8bWkn5Oi0"
      },
      "source": [
        ""
      ],
      "execution_count": null,
      "outputs": []
    }
  ]
}